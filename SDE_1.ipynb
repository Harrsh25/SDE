{
  "nbformat": 4,
  "nbformat_minor": 0,
  "metadata": {
    "colab": {
      "provenance": []
    },
    "kernelspec": {
      "name": "python3",
      "display_name": "Python 3"
    },
    "language_info": {
      "name": "python"
    }
  },
  "cells": [
    {
      "cell_type": "code",
      "source": [
        "import logging\n",
        "from flask import Flask, request\n",
        "\n",
        "app = Flask(__name__)\n",
        "\n",
        "# Configure logging\n",
        "logging.basicConfig(filename='log_ingestor.log', level=logging.INFO, format='%(asctime)s - %(levelname)s - %(message)s')\n",
        "\n",
        "# API endpoint for receiving log data\n",
        "@app.route('/log', methods=['POST'])\n",
        "def log():\n",
        "    try:\n",
        "        log_data = request.json\n",
        "        log_level = log_data.get(\"level\", \"info\").upper()\n",
        "        log_message = log_data.get(\"message\", \"\")\n",
        "\n",
        "        # Log the data\n",
        "        logging.log(getattr(logging, log_level), log_message)\n",
        "\n",
        "        return {\"message\": \"Log recorded successfully\"}, 201\n",
        "    except Exception as e:\n",
        "        logging.error(f\"Error logging data: {str(e)}\")\n",
        "        return {\"error\": \"Failed to log data\"}, 500\n",
        "\n",
        "if __name__ == '__main__':\n",
        "    app.run(debug=True)\n"
      ],
      "metadata": {
        "colab": {
          "base_uri": "https://localhost:8080/",
          "height": 0
        },
        "id": "gWxw_PH4kMCO",
        "outputId": "ba2a55b0-7da5-40d1-e5f9-7638caa4c9ad"
      },
      "execution_count": 5,
      "outputs": [
        {
          "output_type": "stream",
          "name": "stdout",
          "text": [
            " * Serving Flask app '__main__'\n",
            " * Debug mode: on\n"
          ]
        },
        {
          "output_type": "stream",
          "name": "stderr",
          "text": [
            "INFO:werkzeug:\u001b[31m\u001b[1mWARNING: This is a development server. Do not use it in a production deployment. Use a production WSGI server instead.\u001b[0m\n",
            " * Running on http://127.0.0.1:5000\n",
            "INFO:werkzeug:\u001b[33mPress CTRL+C to quit\u001b[0m\n",
            "INFO:werkzeug: * Restarting with stat\n",
            "ERROR:root:Unexpected exception finding object shape\n",
            "Traceback (most recent call last):\n",
            "  File \"/usr/local/lib/python3.10/dist-packages/google/colab/_debugpy_repr.py\", line 54, in get_shape\n",
            "    shape = getattr(obj, 'shape', None)\n",
            "  File \"/usr/local/lib/python3.10/dist-packages/werkzeug/local.py\", line 318, in __get__\n",
            "    obj = instance._get_current_object()\n",
            "  File \"/usr/local/lib/python3.10/dist-packages/werkzeug/local.py\", line 519, in _get_current_object\n",
            "    raise RuntimeError(unbound_message) from None\n",
            "RuntimeError: Working outside of request context.\n",
            "\n",
            "This typically means that you attempted to use functionality that needed\n",
            "an active HTTP request. Consult the documentation on testing for\n",
            "information about how to avoid this problem.\n"
          ]
        }
      ]
    },
    {
      "cell_type": "code",
      "source": [
        "import logging\n",
        "import logging.handlers\n",
        "import os\n",
        "import json\n",
        "from datetime import datetime\n",
        "from random import choice\n",
        "\n",
        "# Define log file paths\n",
        "log_files = [\n",
        "    \"log1.log\",\n",
        "    \"log2.log\",\n",
        "    \"log3.log\",\n",
        "    \"log4.log\",\n",
        "    \"log5.log\",\n",
        "    \"log6.log\",\n",
        "    \"log7.log\",\n",
        "    \"log8.log\",\n",
        "    \"log9.log\",\n",
        "]\n",
        "\n",
        "# Configure logging\n",
        "for log_file in log_files:\n",
        "    logger = logging.getLogger(log_file)\n",
        "    logger.setLevel(logging.INFO)\n",
        "    handler = logging.handlers.RotatingFileHandler(log_file, maxBytes=10000, backupCount=5)\n",
        "    formatter = logging.Formatter('%(message)s')\n",
        "    handler.setFormatter(formatter)\n",
        "    logger.addHandler(handler)\n",
        "\n",
        "# Define log levels\n",
        "log_levels = [\"info\", \"error\", \"success\"]\n",
        "\n",
        "# Function to generate and log messages\n",
        "def log_message(logger):\n",
        "    log_level = choice(log_levels)\n",
        "    log_string = f\"Inside the {logger.name} API\"\n",
        "    timestamp = datetime.now().isoformat() + \"Z\"\n",
        "    log_data = {\n",
        "        \"level\": log_level,\n",
        "        \"log_string\": log_string,\n",
        "        \"timestamp\": timestamp,\n",
        "        \"metadata\": {\n",
        "            \"source\": logger.name\n",
        "        }\n",
        "    }\n",
        "    log_message = json.dumps(log_data)\n",
        "    logger.info(log_message)\n",
        "\n",
        "# Simulate API calls and log messages\n",
        "for log_file in log_files:\n",
        "    logger = logging.getLogger(log_file)\n",
        "    log_message(logger)"
      ],
      "metadata": {
        "colab": {
          "base_uri": "https://localhost:8080/",
          "height": 0
        },
        "id": "ZwVbCU1Qrth1",
        "outputId": "c4ed5ffb-6fd1-4c2e-aca8-1794330e2a92"
      },
      "execution_count": 14,
      "outputs": [
        {
          "output_type": "stream",
          "name": "stderr",
          "text": [
            "INFO:log1.log:{\"level\": \"info\", \"log_string\": \"Inside the log1.log API\", \"timestamp\": \"2024-05-14T10:39:32.483295Z\", \"metadata\": {\"source\": \"log1.log\"}}\n",
            "INFO:log2.log:{\"level\": \"info\", \"log_string\": \"Inside the log2.log API\", \"timestamp\": \"2024-05-14T10:39:32.486145Z\", \"metadata\": {\"source\": \"log2.log\"}}\n",
            "INFO:log3.log:{\"level\": \"error\", \"log_string\": \"Inside the log3.log API\", \"timestamp\": \"2024-05-14T10:39:32.488760Z\", \"metadata\": {\"source\": \"log3.log\"}}\n",
            "INFO:log4.log:{\"level\": \"error\", \"log_string\": \"Inside the log4.log API\", \"timestamp\": \"2024-05-14T10:39:32.491166Z\", \"metadata\": {\"source\": \"log4.log\"}}\n",
            "INFO:log5.log:{\"level\": \"success\", \"log_string\": \"Inside the log5.log API\", \"timestamp\": \"2024-05-14T10:39:32.493922Z\", \"metadata\": {\"source\": \"log5.log\"}}\n",
            "INFO:log6.log:{\"level\": \"error\", \"log_string\": \"Inside the log6.log API\", \"timestamp\": \"2024-05-14T10:39:32.497158Z\", \"metadata\": {\"source\": \"log6.log\"}}\n",
            "INFO:log7.log:{\"level\": \"success\", \"log_string\": \"Inside the log7.log API\", \"timestamp\": \"2024-05-14T10:39:32.499380Z\", \"metadata\": {\"source\": \"log7.log\"}}\n",
            "INFO:log8.log:{\"level\": \"success\", \"log_string\": \"Inside the log8.log API\", \"timestamp\": \"2024-05-14T10:39:32.501252Z\", \"metadata\": {\"source\": \"log8.log\"}}\n",
            "INFO:log9.log:{\"level\": \"error\", \"log_string\": \"Inside the log9.log API\", \"timestamp\": \"2024-05-14T10:39:32.503086Z\", \"metadata\": {\"source\": \"log9.log\"}}\n"
          ]
        }
      ]
    },
    {
      "cell_type": "code",
      "source": [
        "import os\n",
        "import json\n",
        "from datetime import datetime\n",
        "\n",
        "# Function to search logs based on filters\n",
        "def search_logs(log_files, filters):\n",
        "    matching_logs = []\n",
        "    for log_file in log_files:\n",
        "        with open(log_file, 'r') as file:\n",
        "            for line in file:\n",
        "                log_data = json.loads(line)\n",
        "                if all(log_data.get(key) == value for key, value in filters.items()):\n",
        "                    matching_logs.append(log_data)\n",
        "    return matching_logs\n",
        "\n",
        "# Example usage\n",
        "log_files = [\n",
        "    \"log1.log\",\n",
        "    \"log2.log\",\n",
        "    \"log3.log\",\n",
        "    \"log4.log\",\n",
        "    \"log5.log\",\n",
        "    \"log6.log\",\n",
        "    \"log7.log\",\n",
        "    \"log8.log\",\n",
        "    \"log9.log\",\n",
        "]\n",
        "\n",
        "# Find all logs with level set to \"error\"\n",
        "error_logs = search_logs(log_files, {\"level\": \"error\"})\n",
        "print(\"Error logs:\")\n",
        "for log in error_logs:\n",
        "    print(log)\n",
        "\n",
        "# Search for logs containing \"Failed to connect\"\n",
        "failed_connection_logs = search_logs(log_files, {\"log_string\": \"Inside the Search API\"})\n",
        "print(\"\\nLogs containing 'Inside the Search API':\")\n",
        "for log in failed_connection_logs:\n",
        "    print(log)"
      ],
      "metadata": {
        "colab": {
          "base_uri": "https://localhost:8080/",
          "height": 0
        },
        "id": "oMONBpLNrw55",
        "outputId": "5602260f-d88f-498a-e151-e4b6c871d006"
      },
      "execution_count": 15,
      "outputs": [
        {
          "output_type": "stream",
          "name": "stdout",
          "text": [
            "Error logs:\n",
            "{'level': 'error', 'log_string': 'Inside the log3.log API', 'timestamp': '2024-05-14T10:39:32.488760Z', 'metadata': {'source': 'log3.log'}}\n",
            "{'level': 'error', 'log_string': 'Inside the log3.log API', 'timestamp': '2024-05-14T10:39:32.488760Z', 'metadata': {'source': 'log3.log'}}\n",
            "{'level': 'error', 'log_string': 'Inside the log4.log API', 'timestamp': '2024-05-14T10:38:43.392468Z', 'metadata': {'source': 'log4.log'}}\n",
            "{'level': 'error', 'log_string': 'Inside the log4.log API', 'timestamp': '2024-05-14T10:39:32.491166Z', 'metadata': {'source': 'log4.log'}}\n",
            "{'level': 'error', 'log_string': 'Inside the log4.log API', 'timestamp': '2024-05-14T10:39:32.491166Z', 'metadata': {'source': 'log4.log'}}\n",
            "{'level': 'error', 'log_string': 'Inside the log5.log API', 'timestamp': '2024-05-14T10:38:43.395017Z', 'metadata': {'source': 'log5.log'}}\n",
            "{'level': 'error', 'log_string': 'Inside the log6.log API', 'timestamp': '2024-05-14T10:38:43.397076Z', 'metadata': {'source': 'log6.log'}}\n",
            "{'level': 'error', 'log_string': 'Inside the log6.log API', 'timestamp': '2024-05-14T10:39:32.497158Z', 'metadata': {'source': 'log6.log'}}\n",
            "{'level': 'error', 'log_string': 'Inside the log6.log API', 'timestamp': '2024-05-14T10:39:32.497158Z', 'metadata': {'source': 'log6.log'}}\n",
            "{'level': 'error', 'log_string': 'Inside the log7.log API', 'timestamp': '2024-05-14T10:38:43.398796Z', 'metadata': {'source': 'log7.log'}}\n",
            "{'level': 'error', 'log_string': 'Inside the log9.log API', 'timestamp': '2024-05-14T10:38:43.403023Z', 'metadata': {'source': 'log9.log'}}\n",
            "{'level': 'error', 'log_string': 'Inside the log9.log API', 'timestamp': '2024-05-14T10:39:32.503086Z', 'metadata': {'source': 'log9.log'}}\n",
            "{'level': 'error', 'log_string': 'Inside the log9.log API', 'timestamp': '2024-05-14T10:39:32.503086Z', 'metadata': {'source': 'log9.log'}}\n",
            "\n",
            "Logs containing 'Inside the Search API':\n"
          ]
        }
      ]
    }
  ]
}