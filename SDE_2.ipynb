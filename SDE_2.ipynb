{
  "nbformat": 4,
  "nbformat_minor": 0,
  "metadata": {
    "colab": {
      "provenance": [],
      "toc_visible": true
    },
    "kernelspec": {
      "name": "python3",
      "display_name": "Python 3"
    },
    "language_info": {
      "name": "python"
    }
  },
  "cells": [
    {
      "cell_type": "code",
      "source": [
        "import logging\n",
        "import os\n",
        "import time\n",
        "\n",
        "class LogIngestor:\n",
        "    def __init__(self):\n",
        "        self.loggers = {}\n",
        "\n",
        "    def setup_logging(self, api_configs):\n",
        "        for api, config in api_configs.items():\n",
        "            logger = logging.getLogger(api)\n",
        "            logger.setLevel(config[\"level\"])\n",
        "            formatter = logging.Formatter('%(asctime)s - %(levelname)s - %(message)s')\n",
        "            file_handler = logging.FileHandler(config[\"file\"])\n",
        "            file_handler.setFormatter(formatter)\n",
        "            logger.addHandler(file_handler)\n",
        "            self.loggers[api] = logger\n",
        "\n",
        "    def log(self, api_name, log_level, log_message):\n",
        "        if api_name in self.loggers:\n",
        "            logger = self.loggers[api_name]\n",
        "            logger.log(log_level, log_message)\n",
        "        else:\n",
        "            raise ValueError(\"API not found\")\n",
        "\n",
        "# Example usage\n",
        "if __name__ == \"__main__\":\n",
        "    ingestor = LogIngestor()\n",
        "\n",
        "    # Configuration for APIs\n",
        "    api_configs = {\n",
        "        \"api1\": {\"level\": logging.INFO, \"file\": \"log1.log\"},\n",
        "        \"api2\": {\"level\": logging.INFO, \"file\": \"log2.log\"},\n",
        "        \"api3\": {\"level\": logging.INFO, \"file\": \"log3.log\"},\n",
        "        # Add configurations for other APIs\n",
        "    }\n",
        "\n",
        "    # Setup logging for APIs\n",
        "    ingestor.setup_logging(api_configs)\n",
        "\n",
        "    # Example logging\n",
        "    try:\n",
        "        ingestor.log(\"api1\", logging.INFO, \"Log message for api1\")\n",
        "        ingestor.log(\"api2\", logging.INFO, \"Log message for api2\")\n",
        "        ingestor.log(\"api3\", logging.INFO, \"Log message for api3\")\n",
        "    except ValueError as e:\n",
        "        print(e)\n"
      ],
      "metadata": {
        "colab": {
          "base_uri": "https://localhost:8080/",
          "height": 0
        },
        "id": "Z1zBq0ukps0Z",
        "outputId": "7b9b0d07-6b29-4772-e972-4fabfff416b2"
      },
      "execution_count": 13,
      "outputs": [
        {
          "output_type": "stream",
          "name": "stdout",
          "text": [
            "[14/May/2024 10:30:04] INFO - Log message for api1\n",
            "[14/May/2024 10:30:04] INFO - Log message for api2\n",
            "[14/May/2024 10:30:04] INFO - Log message for api3\n"
          ]
        }
      ]
    },
    {
      "cell_type": "code",
      "source": [
        "import logging\n",
        "import logging.handlers\n",
        "import os\n",
        "import json\n",
        "from datetime import datetime\n",
        "from random import choice\n",
        "\n",
        "# Define log file paths\n",
        "log_files = [\n",
        "    \"log1.log\",\n",
        "    \"log2.log\",\n",
        "    \"log3.log\",\n",
        "    \"log4.log\",\n",
        "    \"log5.log\",\n",
        "    \"log6.log\",\n",
        "    \"log7.log\",\n",
        "    \"log8.log\",\n",
        "    \"log9.log\",\n",
        "]\n",
        "\n",
        "# Configure logging\n",
        "for log_file in log_files:\n",
        "    logger = logging.getLogger(log_file)\n",
        "    logger.setLevel(logging.INFO)\n",
        "    handler = logging.handlers.RotatingFileHandler(log_file, maxBytes=10000, backupCount=5)\n",
        "    formatter = logging.Formatter('%(asctime)s - %(name)s - %(levelname)s - %(message)s')\n",
        "    handler.setFormatter(formatter)\n",
        "    logger.addHandler(handler)\n",
        "\n",
        "# Define log levels\n",
        "log_levels = [\"info\", \"error\", \"success\"]\n",
        "\n",
        "# Function to generate and log messages\n",
        "def log_message(logger):\n",
        "    log_level = choice(log_levels)\n",
        "    log_string = f\"Inside the {logger.name} API\"\n",
        "    timestamp = datetime.now().isoformat() + \"Z\"\n",
        "    log_data = {\n",
        "        \"level\": log_level,\n",
        "        \"log_string\": log_string,\n",
        "        \"timestamp\": timestamp,\n",
        "        \"metadata\": {\n",
        "            \"source\": logger.name\n",
        "        }\n",
        "    }\n",
        "    log_message = json.dumps(log_data)\n",
        "    logger.info(log_message)\n",
        "\n",
        "# Simulate API calls and log messages\n",
        "for log_file in log_files:\n",
        "    logger = logging.getLogger(log_file)\n",
        "    log_message(logger)"
      ],
      "metadata": {
        "colab": {
          "base_uri": "https://localhost:8080/",
          "height": 0
        },
        "id": "I7UZdMvYrJ5_",
        "outputId": "4e57a947-a51f-482f-e541-74c1aea0b701"
      },
      "execution_count": 15,
      "outputs": [
        {
          "output_type": "stream",
          "name": "stdout",
          "text": [
            "[14/May/2024 10:36:17] INFO - {\"level\": \"success\", \"log_string\": \"Inside the log1.log API\", \"timestamp\": \"2024-05-14T10:36:17.134405Z\", \"metadata\": {\"source\": \"log1.log\"}}\n",
            "[14/May/2024 10:36:17] INFO - {\"level\": \"success\", \"log_string\": \"Inside the log2.log API\", \"timestamp\": \"2024-05-14T10:36:17.136931Z\", \"metadata\": {\"source\": \"log2.log\"}}\n",
            "[14/May/2024 10:36:17] INFO - {\"level\": \"success\", \"log_string\": \"Inside the log3.log API\", \"timestamp\": \"2024-05-14T10:36:17.139410Z\", \"metadata\": {\"source\": \"log3.log\"}}\n",
            "[14/May/2024 10:36:17] INFO - {\"level\": \"info\", \"log_string\": \"Inside the log4.log API\", \"timestamp\": \"2024-05-14T10:36:17.141959Z\", \"metadata\": {\"source\": \"log4.log\"}}\n",
            "[14/May/2024 10:36:17] INFO - {\"level\": \"success\", \"log_string\": \"Inside the log5.log API\", \"timestamp\": \"2024-05-14T10:36:17.144511Z\", \"metadata\": {\"source\": \"log5.log\"}}\n",
            "[14/May/2024 10:36:17] INFO - {\"level\": \"success\", \"log_string\": \"Inside the log6.log API\", \"timestamp\": \"2024-05-14T10:36:17.146164Z\", \"metadata\": {\"source\": \"log6.log\"}}\n",
            "[14/May/2024 10:36:17] INFO - {\"level\": \"info\", \"log_string\": \"Inside the log7.log API\", \"timestamp\": \"2024-05-14T10:36:17.147869Z\", \"metadata\": {\"source\": \"log7.log\"}}\n",
            "[14/May/2024 10:36:17] INFO - {\"level\": \"success\", \"log_string\": \"Inside the log8.log API\", \"timestamp\": \"2024-05-14T10:36:17.149528Z\", \"metadata\": {\"source\": \"log8.log\"}}\n",
            "[14/May/2024 10:36:17] INFO - {\"level\": \"success\", \"log_string\": \"Inside the log9.log API\", \"timestamp\": \"2024-05-14T10:36:17.150961Z\", \"metadata\": {\"source\": \"log9.log\"}}\n"
          ]
        }
      ]
    },
    {
      "cell_type": "code",
      "source": [
        "import os\n",
        "import json\n",
        "from datetime import datetime\n",
        "\n",
        "# Function to search logs based on filters\n",
        "def search_logs(log_files, filters):\n",
        "    matching_logs = []\n",
        "    for log_file in log_files:\n",
        "        with open(log_file, 'r') as file:\n",
        "            for line in file:\n",
        "                try:\n",
        "                    log_data = json.loads(line)\n",
        "                except json.JSONDecodeError as e:\n",
        "                    # Skip lines that cannot be parsed as JSON\n",
        "                    continue\n",
        "                if all(log_data.get(key) == value for key, value in filters.items()):\n",
        "                    matching_logs.append(log_data)\n",
        "    return matching_logs\n",
        "\n",
        "# Example usage\n",
        "log_files = [\n",
        "    \"log1.log\",\n",
        "    \"log2.log\",\n",
        "    \"log3.log\",\n",
        "    \"log4.log\",\n",
        "    \"log5.log\",\n",
        "    \"log6.log\",\n",
        "    \"log7.log\",\n",
        "    \"log8.log\",\n",
        "    \"log9.log\",\n",
        "]\n",
        "\n",
        "# Find all logs with level set to \"error\"\n",
        "error_logs = search_logs(log_files, {\"level\": \"error\"})\n",
        "print(\"Error logs:\")\n",
        "for log in error_logs:\n",
        "    print(log)\n",
        "\n",
        "# Search for logs containing \"Failed to connect\"\n",
        "failed_connection_logs = search_logs(log_files, {\"log_string\": \"Failed to connect\"})\n",
        "print(\"\\nLogs containing 'Failed to connect':\")\n",
        "for log in failed_connection_logs:\n",
        "    print(log)\n",
        "\n",
        "# Filter logs between specific timestamps\n",
        "start_timestamp = \"2023-09-10T00:00:00Z\"\n",
        "end_timestamp = \"2023-09-15T23:59:59Z\"\n",
        "date_range_logs = search_logs(log_files, {\n",
        "    \"timestamp\": {\n",
        "        \"$gte\": start_timestamp,\n",
        "        \"$lte\": end_timestamp\n",
        "    }\n",
        "})\n",
        "print(f\"\\nLogs between {start_timestamp} and {end_timestamp}:\")\n",
        "for log in date_range_logs:\n",
        "    print(log)"
      ],
      "metadata": {
        "colab": {
          "base_uri": "https://localhost:8080/",
          "height": 0
        },
        "id": "6-5_zxtJrNnB",
        "outputId": "5e1506c5-8fcf-465b-aeb8-857a6452943b"
      },
      "execution_count": 17,
      "outputs": [
        {
          "output_type": "stream",
          "name": "stdout",
          "text": [
            "Error logs:\n",
            "\n",
            "Logs containing 'Failed to connect':\n",
            "\n",
            "Logs between 2023-09-10T00:00:00Z and 2023-09-15T23:59:59Z:\n"
          ]
        }
      ]
    }
  ]
}